{
  "nbformat": 4,
  "nbformat_minor": 0,
  "metadata": {
    "colab": {
      "provenance": [],
      "authorship_tag": "ABX9TyMImHhCMqB12CWT4ybAoVNY",
      "include_colab_link": true
    },
    "kernelspec": {
      "name": "python3",
      "display_name": "Python 3"
    },
    "language_info": {
      "name": "python"
    }
  },
  "cells": [
    {
      "cell_type": "markdown",
      "metadata": {
        "id": "view-in-github",
        "colab_type": "text"
      },
      "source": [
        "<a href=\"https://colab.research.google.com/github/ytuldap/qweasdzxc/blob/main/%D0%A8%D0%B0%D1%8F%D1%85%D0%BC%D0%B5%D1%82%D0%BE%D0%B2%D0%97%D0%B0%D0%B4%D0%B0%D0%BD%D0%B8%D0%B5.ipynb\" target=\"_parent\"><img src=\"https://colab.research.google.com/assets/colab-badge.svg\" alt=\"Open In Colab\"/></a>"
      ]
    },
    {
      "cell_type": "markdown",
      "source": [
        "Описать процедуру PowerA3(A, B), вычисляющую третью степень числа A и возвращающую ее в переменной B (A — входной, B — выходной параметр; оба параметра являются вещественными). С помощью этой процедуры найти третьи степени пяти данных чисел."
      ],
      "metadata": {
        "id": "Jf2YL2NSp9kX"
      }
    },
    {
      "cell_type": "code",
      "source": [
        "def PowerA4():\n",
        "  numbers = []\n",
        "  for i in range(5):\n",
        "    num = float(input())\n",
        "    numbers.append(num)\n",
        "  for num in numbers:\n",
        "    b = pow(num,3)\n",
        "    print(b)"
      ],
      "metadata": {
        "id": "DPjnMbqNoOGZ"
      },
      "execution_count": 22,
      "outputs": []
    },
    {
      "cell_type": "code",
      "source": [
        "PowerA4()"
      ],
      "metadata": {
        "colab": {
          "base_uri": "https://localhost:8080/"
        },
        "id": "-qLRXUa_ndhz",
        "outputId": "b8c79e1f-8949-45c7-841f-38035e466eef"
      },
      "execution_count": 40,
      "outputs": [
        {
          "output_type": "stream",
          "name": "stdout",
          "text": [
            "1\n",
            "4\n",
            "5\n",
            "2\n",
            "3\n",
            "1.0\n",
            "64.0\n",
            "125.0\n",
            "8.0\n",
            "27.0\n"
          ]
        }
      ]
    },
    {
      "cell_type": "markdown",
      "source": [
        "Описать процедуру PowerA234(A, B, C, D), вычисляющую вторую, третью и четвертую степень числа A и возвращающую эти степени соответственно в переменных B, C и D (A — входной, B, C, D — выходные параметры; все параметры являются вещественными). С помощью этой процедуры найти вторую, третью и четвертую степень пяти данных чисел."
      ],
      "metadata": {
        "id": "RSNAuxR9qDh1"
      }
    },
    {
      "cell_type": "code",
      "source": [
        "def PowerA234():\n",
        "  b = float\n",
        "  c = float\n",
        "  d = float\n",
        "  numbers = []\n",
        "  for i in range(5):\n",
        "    num = float(input())\n",
        "    numbers.append(num)\n",
        "  for num in numbers:\n",
        "    b = pow(num,2)\n",
        "    c = pow(num,3)\n",
        "    d = pow(num,4)\n",
        "    print(b,c,d)"
      ],
      "metadata": {
        "id": "fAmURQ_gqJTh"
      },
      "execution_count": null,
      "outputs": []
    },
    {
      "cell_type": "code",
      "source": [
        "PowerA234()"
      ],
      "metadata": {
        "id": "ElYtCx1OqZBu"
      },
      "execution_count": null,
      "outputs": []
    },
    {
      "cell_type": "markdown",
      "source": [
        "Описать процедуру ShiftLeft3(A, B, C), выполняющую левый циклический сдвиг: значение A переходит в C, значение C — в B, значение B — в A (A, B, C — вещественные параметры, являющиеся одновременно входными и выходными). С помощью этой процедуры выполнить левый циклический сдвиг для двух данных наборов из трех чисел: (A1, B1, C1) и (A2, B2, C2)."
      ],
      "metadata": {
        "id": "5Nn9u69Eu1_k"
      }
    },
    {
      "cell_type": "code",
      "source": [
        "def ShiftLeft3(values):\n",
        "    A, B, C = values\n",
        "    values[0], values[1], values[2] = B, C, A\n",
        "\n",
        "for i in range(2):\n",
        " set = list(map(float, input(\"Введите набор из трёх чисел: \").split()))\n",
        " ShiftLeft3(set)\n",
        " print(set)\n",
        "\n"
      ],
      "metadata": {
        "colab": {
          "base_uri": "https://localhost:8080/"
        },
        "id": "ZVpH6wZFtTI4",
        "outputId": "cdaf89c0-fe93-4c5c-a7ec-abf807d405e5"
      },
      "execution_count": 43,
      "outputs": [
        {
          "output_type": "stream",
          "name": "stdout",
          "text": [
            "Введите набор из трёх чисел: 2 5 7\n",
            "[5.0, 7.0, 2.0]\n",
            "Введите набор из трёх чисел: 2 5 9\n",
            "[5.0, 9.0, 2.0]\n"
          ]
        }
      ]
    },
    {
      "cell_type": "markdown",
      "source": [
        "Описать процедуру ShiftRight3(A, B, C), выполняющую правый циклический сдвиг: значение A переходит в B, значение B — в C, значение C — в A (A, B, C — вещественные параметры, являющиеся одновременно входными и выходными). С помощью этой процедуры выполнить правый циклический сдвиг для двух данных наборов из трех чисел: (A1, B1, C1) и (A2, B2, C2)."
      ],
      "metadata": {
        "id": "FcmQ16vgu3ax"
      }
    },
    {
      "cell_type": "code",
      "source": [
        "def ShiftLeft3(values):\n",
        "    A, B, C = values\n",
        "    values[0], values[1], values[2] = C, A, B\n",
        "\n",
        "for i in range(2):\n",
        " set = list(map(float, input(\"Введите набор из трёх чисел: \").split()))\n",
        " ShiftLeft3(set)\n",
        " print(set)\n",
        "\n"
      ],
      "metadata": {
        "colab": {
          "base_uri": "https://localhost:8080/"
        },
        "id": "HYU9db5bu6gY",
        "outputId": "b06cc96c-6c69-4042-e249-2922ddb9ceed"
      },
      "execution_count": 44,
      "outputs": [
        {
          "output_type": "stream",
          "name": "stdout",
          "text": [
            "Введите набор из трёх чисел: 2 3 5\n",
            "[5.0, 2.0, 3.0]\n",
            "Введите набор из трёх чисел: 1 2 3\n",
            "[3.0, 1.0, 2.0]\n"
          ]
        }
      ]
    },
    {
      "cell_type": "markdown",
      "source": [
        "Proc13. Описать процедуру SortDec3(A, B, C), меняющую содержимое переменных A, B, C таким образом, чтобы их значения оказались упорядоченными по убыванию (A, B, C — вещественные параметры, являющиеся одновременно входными и выходными). С помощью этой процедуры упорядочить по убыванию два данных набора из трех чисел: (A1, B1, C1) и (A2, B2, C2)."
      ],
      "metadata": {
        "id": "oJCh02z3vUxR"
      }
    },
    {
      "cell_type": "code",
      "source": [
        "def SortDec(values):\n",
        "    A, B, C = values\n",
        "    if A < B:\n",
        "      A,B = B,A\n",
        "    if A < C:\n",
        "      A, C = C, A\n",
        "    if B < C:\n",
        "      B, C = C, B\n",
        "    values[:] = [A, B, C]\n",
        "\n",
        "\n",
        "for i in range(2):\n",
        " set = list(map(float, input(\"Введите набор из трёх чисел: \").split()))\n",
        " SortDec(set)\n",
        " print(set)\n"
      ],
      "metadata": {
        "colab": {
          "base_uri": "https://localhost:8080/"
        },
        "id": "6XDCZ4FVvWAI",
        "outputId": "a6802a97-ea90-4c61-c890-8e157c0d39f5"
      },
      "execution_count": 48,
      "outputs": [
        {
          "output_type": "stream",
          "name": "stdout",
          "text": [
            "Введите набор из трёх чисел: 1 2 3\n",
            "[3.0, 2.0, 1.0]\n",
            "Введите набор из трёх чисел: 2 3 6\n",
            "[6.0, 3.0, 2.0]\n"
          ]
        }
      ]
    },
    {
      "cell_type": "markdown",
      "source": [
        "Описать функцию CircleS(R) вещественного типа, находящую площадь круга радиуса R (R — вещественное). С помощью этой функции найти площади трех кругов с данными радиусами. Площадь круга радиуса R вычисляется по формуле S = π·R2 . В качестве значения π использовать 3.14."
      ],
      "metadata": {
        "id": "FCEqeW9Xyh97"
      }
    },
    {
      "cell_type": "code",
      "source": [
        "def CircleS(set):\n",
        "  pi = 3.14\n",
        "  for i in range(len(set)):\n",
        "    set[i] = set[i]**2*pi\n",
        "  print(set)\n",
        "\n",
        "for i in range(2):\n",
        " set = list(map(float, input(\"Введите набор из трёх радиусов: \").split()))\n",
        " CircleS(set)\n",
        "\n",
        "\n",
        "\n"
      ],
      "metadata": {
        "colab": {
          "base_uri": "https://localhost:8080/"
        },
        "id": "HxfXV268yn1Q",
        "outputId": "fee9ed6b-2869-4f72-94c8-26dd76379486"
      },
      "execution_count": 83,
      "outputs": [
        {
          "output_type": "stream",
          "name": "stdout",
          "text": [
            "Введите набор из трёх радиусов: 2 3 4\n",
            "[12.56, 28.26, 50.24]\n",
            "Введите набор из трёх радиусов: 4 2 7\n",
            "[50.24, 12.56, 153.86]\n"
          ]
        }
      ]
    },
    {
      "cell_type": "markdown",
      "source": [
        "Описать функцию RingS(R1, R2) вещественного типа, находящую площадь кольца, заключенного между двумя окружностями с общим центром и радиусами R1 и R2 (R1 и R2 — вещественные, R1 > R2). С ее помощью найти площади трех колец, для которых даны внешние и внутренние радиусы. Воспользоваться формулой площади круга радиуса R: S = π·R2 . В качестве значения π использовать 3.14."
      ],
      "metadata": {
        "id": "GGGhHbGU38si"
      }
    },
    {
      "cell_type": "code",
      "source": [
        "def RingS(set):\n",
        "  pi = 3.14\n",
        "  for i in range(len(set)):\n",
        "    set[i] = set[i]**2*pi\n",
        "  diff = set[0]-set[1]\n",
        "  print(round(diff,2))\n",
        "\n",
        "for i in range(3):\n",
        " set = list(map(float, input(\"Введите набор из двух радиусов, первый должен быть больше: \").split()))\n",
        " RingS(set)\n",
        "\n"
      ],
      "metadata": {
        "colab": {
          "base_uri": "https://localhost:8080/"
        },
        "id": "KKycHlayy9ec",
        "outputId": "5f311ff8-76f3-405b-9640-8c577a04d8cb"
      },
      "execution_count": 90,
      "outputs": [
        {
          "output_type": "stream",
          "name": "stdout",
          "text": [
            "Введите набор из двух радиусов, первый должен быть больше: 4 1\n",
            "47.1\n",
            "Введите набор из двух радиусов, первый должен быть больше: 1.5 1\n",
            "3.93\n",
            "Введите набор из двух радиусов, первый должен быть больше: 4 1\n",
            "47.1\n"
          ]
        }
      ]
    },
    {
      "cell_type": "markdown",
      "source": [
        "Описать функцию TriangleP(a, h), находящую периметр равнобедренного треугольника по его основанию a и высоте h, проведенной к основанию (a и h — вещественные). С помощью этой функции найти периметры трех треугольников, для которых даны основания и высоты. Для нахождения боковой стороны b треугольника использовать теорему Пифагора: b2 = (a/2)2 + h2 ."
      ],
      "metadata": {
        "id": "f8ruJnTo5b1w"
      }
    },
    {
      "cell_type": "code",
      "source": [
        "def TriangleP(set):\n",
        "  P = (set[0]/2)**2+set[1]**2\n",
        "  print(round(P,2))\n",
        "\n",
        "for i in range(3):\n",
        " set = list(map(float, input(\"Введите набор основания и высоты через пробел: \").split()))\n",
        " TriangleP(set)\n"
      ],
      "metadata": {
        "colab": {
          "base_uri": "https://localhost:8080/"
        },
        "id": "Su2aihZc7x0e",
        "outputId": "93da1b10-bc00-4d6a-caff-b41e53a8d727"
      },
      "execution_count": 93,
      "outputs": [
        {
          "output_type": "stream",
          "name": "stdout",
          "text": [
            "Введите набор из двух радиусов, первый должен быть больше: 4 2\n",
            "8.0\n",
            "Введите набор из двух радиусов, первый должен быть больше: 6 3\n",
            "18.0\n",
            "Введите набор из двух радиусов, первый должен быть больше: 8 2\n",
            "20.0\n"
          ]
        }
      ]
    },
    {
      "cell_type": "markdown",
      "source": [
        "Из заданного числа вычли сумму его цифр. Из результата вновь вычли сумму его цифр и т.д. Через сколько таких действий получится нуль?"
      ],
      "metadata": {
        "id": "ySInorFZ8kZR"
      }
    },
    {
      "cell_type": "code",
      "source": [
        "def count_subtractions(n):\n",
        "    count = 0\n",
        "    while n > 0:\n",
        "        digit_sum = sum(int(d) for d in str(n))\n",
        "        n -= digit_sum\n",
        "        count += 1\n",
        "    return count\n",
        "\n",
        "number = int(input(\"Введите натуральное число: \"))\n",
        "result = count_subtractions(number)\n",
        "print(result)"
      ],
      "metadata": {
        "colab": {
          "base_uri": "https://localhost:8080/"
        },
        "id": "EbZnnVF88xMA",
        "outputId": "64333fe4-8aed-4f6e-956d-fab58f77c72c"
      },
      "execution_count": 102,
      "outputs": [
        {
          "output_type": "stream",
          "name": "stdout",
          "text": [
            "Введите натуральное число: 143\n",
            "15\n"
          ]
        }
      ]
    },
    {
      "cell_type": "markdown",
      "source": [
        "Заменить отрицательные элементы линейного массива их модулями, не пользуясь стандартной функцией вычисления модуля. Подсчитать количество произведенных замен.\n"
      ],
      "metadata": {
        "id": "QvKPu4ryCjFI"
      }
    },
    {
      "cell_type": "code",
      "source": [
        "def replace_negatives(arr):\n",
        "    count = 0\n",
        "    for i in range(len(arr)):\n",
        "        if arr[i] < 0:\n",
        "            arr[i] = -arr[i]\n",
        "            count += 1\n",
        "    return count\n",
        "\n",
        "numbers = [3, -1, 4, -2, 5, -8, 0, -3]\n",
        "replacements = replace_negatives(numbers)\n",
        "\n",
        "print( replacements)"
      ],
      "metadata": {
        "colab": {
          "base_uri": "https://localhost:8080/"
        },
        "id": "eDYonowfDBtQ",
        "outputId": "d72670d5-9673-4873-f5b7-032e80f3eda2"
      },
      "execution_count": 103,
      "outputs": [
        {
          "output_type": "stream",
          "name": "stdout",
          "text": [
            "Сделано замен: 4\n"
          ]
        }
      ]
    },
    {
      "cell_type": "markdown",
      "source": [
        "Составить программу вычисления суммы:\n",
        "1! + 3! + … + 5!    (n ≤ 20,  n - нечетное).\n",
        " Примечание: Тип результата значения функции — LongInt."
      ],
      "metadata": {
        "id": "w7pFrXq6DOT4"
      }
    },
    {
      "cell_type": "code",
      "source": [
        "import math\n",
        "\n",
        "def calculate_factorial_sum(n):\n",
        "\n",
        "    if n % 2 == 0 or n > 20:\n",
        "      return(\"Введено неверное значение\")\n",
        "    else:\n",
        "      total = 0\n",
        "      for i in range(1, n + 1, 2):\n",
        "          total += math.factorial(i)\n",
        "      return total\n",
        "\n",
        "\n",
        "n = int(input(\"Введите нечетное число n (≤ 20): \"))\n",
        "result = calculate_factorial_sum(n)\n",
        "print(result)\n"
      ],
      "metadata": {
        "colab": {
          "base_uri": "https://localhost:8080/"
        },
        "id": "11FdVxOsDnio",
        "outputId": "1b648617-a987-4213-f02f-eb9792910005"
      },
      "execution_count": 119,
      "outputs": [
        {
          "output_type": "stream",
          "name": "stdout",
          "text": [
            "Введите нечетное число n (≤ 20): 18\n",
            "Введено неверное значение\n"
          ]
        }
      ]
    }
  ]
}