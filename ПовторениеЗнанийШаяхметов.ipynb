{
  "nbformat": 4,
  "nbformat_minor": 0,
  "metadata": {
    "colab": {
      "provenance": [],
      "authorship_tag": "ABX9TyOFuHA4dt3SIGBGtlnPNA2C",
      "include_colab_link": true
    },
    "kernelspec": {
      "name": "python3",
      "display_name": "Python 3"
    },
    "language_info": {
      "name": "python"
    }
  },
  "cells": [
    {
      "cell_type": "markdown",
      "metadata": {
        "id": "view-in-github",
        "colab_type": "text"
      },
      "source": [
        "<a href=\"https://colab.research.google.com/github/ytuldap/qweasdzxc/blob/main/%D0%9F%D0%BE%D0%B2%D1%82%D0%BE%D1%80%D0%B5%D0%BD%D0%B8%D0%B5%D0%97%D0%BD%D0%B0%D0%BD%D0%B8%D0%B9%D0%A8%D0%B0%D1%8F%D1%85%D0%BC%D0%B5%D1%82%D0%BE%D0%B2.ipynb\" target=\"_parent\"><img src=\"https://colab.research.google.com/assets/colab-badge.svg\" alt=\"Open In Colab\"/></a>"
      ]
    },
    {
      "cell_type": "markdown",
      "source": [
        "Begin8. Даны два числа a и b. Найти их среднее арифметическое: (a + b)/2."
      ],
      "metadata": {
        "id": "szunX0-Oks-9"
      }
    },
    {
      "cell_type": "code",
      "source": [
        "a = int(input())\n",
        "b = int(input())\n",
        "print(\"Среднее арифметическое a и b =\", (a+b)/2)"
      ],
      "metadata": {
        "colab": {
          "base_uri": "https://localhost:8080/"
        },
        "id": "937LuZ3bkuaA",
        "outputId": "f89a6bbe-0816-4ec0-d74d-280d4cf75fe7"
      },
      "execution_count": 4,
      "outputs": [
        {
          "output_type": "stream",
          "name": "stdout",
          "text": [
            "2\n",
            "2\n",
            "Среднее арифметическое a и b = 2.0\n"
          ]
        }
      ]
    },
    {
      "cell_type": "markdown",
      "source": [
        "Begin6. Даны длины ребер a, b, c прямоугольного параллелепипеда. Найти его объем V = a·b·c и площадь поверхности S = 2·(a·b + b·c + a·c)."
      ],
      "metadata": {
        "id": "pByq-eNlldvj"
      }
    },
    {
      "cell_type": "code",
      "source": [
        "a = int(input())\n",
        "b = int(input())\n",
        "c = int(input())\n",
        "v = a*b*c\n",
        "s = 2*(a*b+b*c+a*c)\n",
        "print(\"Объем параллелепипеда =\",v,\" Площадь его поверхности =\",s)"
      ],
      "metadata": {
        "colab": {
          "base_uri": "https://localhost:8080/"
        },
        "id": "IIWrKgpiloFX",
        "outputId": "aca9edd2-db0e-4548-821a-df13d9133016"
      },
      "execution_count": 7,
      "outputs": [
        {
          "output_type": "stream",
          "name": "stdout",
          "text": [
            "2\n",
            "2\n",
            "2\n",
            "Объем параллелепипеда = 8  Площадь его поверхности = 24\n"
          ]
        }
      ]
    },
    {
      "cell_type": "markdown",
      "source": [
        "Begin5. Дана длина ребра куба a. Найти объем куба V = a 3 и площадь его поверхности S = 6·a^2 ."
      ],
      "metadata": {
        "id": "FkFzgzbGmdvY"
      }
    },
    {
      "cell_type": "code",
      "source": [
        "a = int(input())\n",
        "v = a**3\n",
        "s = 6*a**2\n",
        "print(\"Объем куба =\",v,\"Его площадь =\",s)"
      ],
      "metadata": {
        "colab": {
          "base_uri": "https://localhost:8080/"
        },
        "id": "PfIa0BxOmmJR",
        "outputId": "9e24534c-c1b7-4cb0-943a-842e7c9faf56"
      },
      "execution_count": 9,
      "outputs": [
        {
          "output_type": "stream",
          "name": "stdout",
          "text": [
            "2\n",
            "Объем куба = 8 Его площадь = 24\n"
          ]
        }
      ]
    },
    {
      "cell_type": "markdown",
      "source": [
        "Begin26. Найти значение функции y = 4·(x–3)^6 – 7·(x–3)^3 + 2 при данном значении x."
      ],
      "metadata": {
        "id": "F1xaZtdnoBPK"
      }
    },
    {
      "cell_type": "code",
      "source": [
        "import math\n",
        "x = int(input())\n",
        "y = 4*math.pow(x-3,6)-7*math.pow(x-3,3)+2\n",
        "print(\"y =\",y)\n"
      ],
      "metadata": {
        "colab": {
          "base_uri": "https://localhost:8080/"
        },
        "id": "xx1tFXiwoKbg",
        "outputId": "0f47c3e7-857a-4c86-d69b-c2e64a84d973"
      },
      "execution_count": 11,
      "outputs": [
        {
          "output_type": "stream",
          "name": "stdout",
          "text": [
            "3\n",
            "y = 2.0\n"
          ]
        }
      ]
    },
    {
      "cell_type": "markdown",
      "source": [
        "Begin22°. Поменять местами содержимое переменных A и B и вывести новые значения A и B."
      ],
      "metadata": {
        "id": "7XL5OFgVorej"
      }
    },
    {
      "cell_type": "code",
      "source": [
        "a = int(input(\"A=\"))\n",
        "b = int(input(\"B=\"))\n",
        "x = a\n",
        "a = b\n",
        "b = x\n",
        "print(\"Теперь А =\",a,\"А B теперь равно =\", b)"
      ],
      "metadata": {
        "colab": {
          "base_uri": "https://localhost:8080/"
        },
        "id": "iW_phEXVomiW",
        "outputId": "71d37584-0857-4f2e-bf70-3b1836484c9c"
      },
      "execution_count": 18,
      "outputs": [
        {
          "output_type": "stream",
          "name": "stdout",
          "text": [
            "A=2\n",
            "B=3\n",
            "Теперь А = 3 А B теперь равно = 2\n"
          ]
        }
      ]
    },
    {
      "cell_type": "markdown",
      "source": [
        "Integer1. Дано расстояние L в сантиметрах. Используя операцию деления нацело, найти количество полных метров в нем (1 метр = 100 см)."
      ],
      "metadata": {
        "id": "Km-0eYowrkxo"
      }
    },
    {
      "cell_type": "code",
      "source": [
        "L = int(input(\"Введите количество сантиметров \"))\n",
        "M = L//100\n",
        "print(M)"
      ],
      "metadata": {
        "colab": {
          "base_uri": "https://localhost:8080/"
        },
        "id": "9j5q8kOyrmdy",
        "outputId": "c781743b-fe3d-41af-a605-3026d1860fbb"
      },
      "execution_count": 21,
      "outputs": [
        {
          "output_type": "stream",
          "name": "stdout",
          "text": [
            "Введите количество сантиметров 199\n",
            "1\n"
          ]
        }
      ]
    },
    {
      "cell_type": "markdown",
      "source": [
        "Integer7. Дано двузначное число. Найти сумму и произведение его цифр"
      ],
      "metadata": {
        "id": "D1XSkpIbr4fh"
      }
    },
    {
      "cell_type": "code",
      "source": [
        "a = int(input(\"Введите двузначное число\"))\n",
        "b = a//10\n",
        "c = a%10\n",
        "S = b+c\n",
        "P = b*c\n",
        "print(\"Сумма чисел =\", S, \"Произведение чисел =\", P)"
      ],
      "metadata": {
        "colab": {
          "base_uri": "https://localhost:8080/"
        },
        "id": "z-mv7jU7r9YZ",
        "outputId": "6db39455-7b55-444b-fddf-4f697a63c27d"
      },
      "execution_count": 22,
      "outputs": [
        {
          "output_type": "stream",
          "name": "stdout",
          "text": [
            "Введите двузначное число25\n",
            "Сумма чисел = 7 Произведение чисел = 10\n"
          ]
        }
      ]
    },
    {
      "cell_type": "markdown",
      "source": [
        "Integer10. Дано трехзначное число. Вывести вначале его последнюю цифру (единицы), а затем — его среднюю цифру (десятки)."
      ],
      "metadata": {
        "id": "8kCB1FIuscnP"
      }
    },
    {
      "cell_type": "code",
      "source": [
        "a = int(input(\"Введите трехзначное число\"))\n",
        "b = a%10\n",
        "c = b%10\n",
        "print(\"Последняя цифра числа =\",b, \"Средняя цифра числа =\", c)"
      ],
      "metadata": {
        "colab": {
          "base_uri": "https://localhost:8080/"
        },
        "id": "GoVeUbR0sei6",
        "outputId": "994f301d-0a03-4c78-f842-66a36b8f883c"
      },
      "execution_count": 23,
      "outputs": [
        {
          "output_type": "stream",
          "name": "stdout",
          "text": [
            "Введите трехзначное число159\n",
            "Последняя цифра числа = 9 Средняя цифра числа = 9\n"
          ]
        }
      ]
    },
    {
      "cell_type": "markdown",
      "source": [
        "Integer29°. Даны целые положительные числа A, B, C. На прямоугольнике размера A × B размещено максимально возможное количество квадратов со стороной C (без наложений). Найти количество квадратов, размещенных на прямоугольнике, а также площадь незанятой части прямоугольника."
      ],
      "metadata": {
        "id": "ytHmWsXouRC0"
      }
    },
    {
      "cell_type": "code",
      "source": [
        "a = int(input(\"Введите длину стороны А\"))\n",
        "b = int(input(\"Введите длину стороны B\"))\n",
        "c = int(input(\"Введите длину стороны C\"))\n",
        "AB = a*b\n",
        "CC = c*c\n",
        "ABC = AB//CC\n",
        "ABCC = AB%CC\n",
        "print(\"квадратов в прямоугольнике =\", ABC,\"Свободного места осталось =\", ABCC)"
      ],
      "metadata": {
        "colab": {
          "base_uri": "https://localhost:8080/"
        },
        "id": "5ajztV6suRv6",
        "outputId": "7c9215e3-eeae-41c3-f93b-1a8cde1b2b69"
      },
      "execution_count": 26,
      "outputs": [
        {
          "output_type": "stream",
          "name": "stdout",
          "text": [
            "Введите длину стороны А2\n",
            "Введите длину стороны B3\n",
            "Введите длину стороны C2\n",
            "квадратов в прямоугольнике = 1 Свободного места осталось = 2\n"
          ]
        }
      ]
    },
    {
      "cell_type": "markdown",
      "source": [
        "Integer21. С начала суток прошло N секунд (N — целое). Найти количество секунд, прошедших с начала последней минуты."
      ],
      "metadata": {
        "id": "pPfWhhUSwVr5"
      }
    },
    {
      "cell_type": "code",
      "source": [
        "a = int(input(\"Введите кол-во секунд\"))\n",
        "m = a%60\n",
        "print(\"От последней минут прошло \",m,\"секунд\" )"
      ],
      "metadata": {
        "colab": {
          "base_uri": "https://localhost:8080/"
        },
        "id": "vO_zXgOLwWJD",
        "outputId": "8f64ffc3-4e25-46e9-e164-1fff5884a922"
      },
      "execution_count": 27,
      "outputs": [
        {
          "output_type": "stream",
          "name": "stdout",
          "text": [
            "Введите кол-во секунд121\n",
            "От последней минут прошло  1 секунд\n"
          ]
        }
      ]
    },
    {
      "cell_type": "markdown",
      "source": [
        "Boolean1°. Дано целое число A. Проверить истинность высказывания: «Число A является положительным»"
      ],
      "metadata": {
        "id": "Z_lXkzKmw17p"
      }
    },
    {
      "cell_type": "code",
      "source": [
        "a = int(input(\"Введите А=\"))\n",
        "a>0\n"
      ],
      "metadata": {
        "colab": {
          "base_uri": "https://localhost:8080/"
        },
        "id": "036K00S1w2fl",
        "outputId": "22a7d1b2-f1de-4815-a0ba-627f2dc784f2"
      },
      "execution_count": 30,
      "outputs": [
        {
          "name": "stdout",
          "output_type": "stream",
          "text": [
            "Введите А=-3\n"
          ]
        },
        {
          "output_type": "execute_result",
          "data": {
            "text/plain": [
              "False"
            ]
          },
          "metadata": {},
          "execution_count": 30
        }
      ]
    },
    {
      "cell_type": "markdown",
      "source": [
        "Boolean2. Дано целое число A. Проверить истинность высказывания: «Число A является нечетным»."
      ],
      "metadata": {
        "id": "Je4XunzjxDUF"
      }
    },
    {
      "cell_type": "code",
      "source": [
        "a = int(input(\"Введите А=\"))\n",
        "a%2==1"
      ],
      "metadata": {
        "colab": {
          "base_uri": "https://localhost:8080/"
        },
        "id": "S3HwIUEEw-Y8",
        "outputId": "3d7463dc-b04a-4925-ac58-2d56205b3ba6"
      },
      "execution_count": 33,
      "outputs": [
        {
          "name": "stdout",
          "output_type": "stream",
          "text": [
            "Введите А=3\n"
          ]
        },
        {
          "output_type": "execute_result",
          "data": {
            "text/plain": [
              "True"
            ]
          },
          "metadata": {},
          "execution_count": 33
        }
      ]
    },
    {
      "cell_type": "markdown",
      "source": [
        "Boolean11. Даны два целых числа: A, B. Проверить истинность высказывания: «Числа A и B имеют одинаковую четность»."
      ],
      "metadata": {
        "id": "qOshK1h2xhYG"
      }
    },
    {
      "cell_type": "code",
      "source": [
        "a = int(input(\"Введите А=\"))\n",
        "b = int(input(\"Введите B=\"))\n",
        "a%2 == b%2"
      ],
      "metadata": {
        "colab": {
          "base_uri": "https://localhost:8080/"
        },
        "id": "wbEoPiNaxiTq",
        "outputId": "c4f8cea2-ede3-466b-b92f-1e41db48c0b0"
      },
      "execution_count": 35,
      "outputs": [
        {
          "name": "stdout",
          "output_type": "stream",
          "text": [
            "Введите А=2\n",
            "Введите B=3\n"
          ]
        },
        {
          "output_type": "execute_result",
          "data": {
            "text/plain": [
              "False"
            ]
          },
          "metadata": {},
          "execution_count": 35
        }
      ]
    },
    {
      "cell_type": "markdown",
      "source": [
        "Boolean12. Даны три целых числа: A, B, C. Проверить истинность высказывания: «Каждое из чисел A, B, C положительное»."
      ],
      "metadata": {
        "id": "ORyLI1a1xwEX"
      }
    },
    {
      "cell_type": "code",
      "source": [
        "a = int(input(\"Введите А=\"))\n",
        "b = int(input(\"Введите B=\"))\n",
        "c = int(input(\"Введите C=\"))\n",
        "a>0 and b>0 and c>0"
      ],
      "metadata": {
        "colab": {
          "base_uri": "https://localhost:8080/"
        },
        "id": "wTVwMhyzxp5O",
        "outputId": "7ee93a6c-ac98-4de8-8315-98d64cbd6ea7"
      },
      "execution_count": 38,
      "outputs": [
        {
          "name": "stdout",
          "output_type": "stream",
          "text": [
            "Введите А=2\n",
            "Введите B=3\n",
            "Введите C=-1\n"
          ]
        },
        {
          "output_type": "execute_result",
          "data": {
            "text/plain": [
              "False"
            ]
          },
          "metadata": {},
          "execution_count": 38
        }
      ]
    },
    {
      "cell_type": "markdown",
      "source": [
        "Boolean20. Дано трехзначное число. Проверить истинность высказывания: «Все цифры данного числа различны»."
      ],
      "metadata": {
        "id": "cU9PPukvyPyJ"
      }
    },
    {
      "cell_type": "code",
      "source": [
        "a = int(input(\"Введите трехзначное А=\"))\n",
        "a//100 != a%10 and a//100 != a//10%10 and a%10 != a//10%10\n"
      ],
      "metadata": {
        "colab": {
          "base_uri": "https://localhost:8080/"
        },
        "id": "oKn4i3gWx6bW",
        "outputId": "0c9ca366-0bc0-448a-e48d-f2ed49ff8c30"
      },
      "execution_count": 47,
      "outputs": [
        {
          "name": "stdout",
          "output_type": "stream",
          "text": [
            "Введите трехзначное А=121\n"
          ]
        },
        {
          "output_type": "execute_result",
          "data": {
            "text/plain": [
              "False"
            ]
          },
          "metadata": {},
          "execution_count": 47
        }
      ]
    },
    {
      "cell_type": "markdown",
      "source": [
        "If1. Дано целое число. Если оно является положительным, то прибавить к нему 1; в противном случае не изменять его. Вывести полученное число."
      ],
      "metadata": {
        "id": "d4mGULSVzDy4"
      }
    },
    {
      "cell_type": "code",
      "source": [
        "a = int(input(\"Введите А=\"))\n",
        "if a>0:\n",
        "    a +=1\n",
        "    print(a)\n",
        "else: print(a)"
      ],
      "metadata": {
        "colab": {
          "base_uri": "https://localhost:8080/"
        },
        "id": "zD1w9J7dyrhQ",
        "outputId": "9f347079-8d8c-4096-dd13-4e4ac609f4ac"
      },
      "execution_count": 55,
      "outputs": [
        {
          "output_type": "stream",
          "name": "stdout",
          "text": [
            "Введите А=2\n",
            "3\n"
          ]
        }
      ]
    },
    {
      "cell_type": "markdown",
      "source": [
        "If2. Дано целое число. Если оно является положительным, то прибавить к нему 1; в противном случае вычесть из него 2. Вывести полученное число."
      ],
      "metadata": {
        "id": "RZqTfOJyzbGr"
      }
    },
    {
      "cell_type": "code",
      "source": [
        "a = int(input(\"Введите А=\"))\n",
        "if a>0:\n",
        "    a +=1\n",
        "    print(a)\n",
        "else:\n",
        "    a -=2\n",
        "    print(a)"
      ],
      "metadata": {
        "colab": {
          "base_uri": "https://localhost:8080/"
        },
        "id": "qey779PlzN11",
        "outputId": "b67a71d3-78c7-44f5-8d39-018b6a535e30"
      },
      "execution_count": 58,
      "outputs": [
        {
          "output_type": "stream",
          "name": "stdout",
          "text": [
            "Введите А=-3\n",
            "-5\n"
          ]
        }
      ]
    },
    {
      "cell_type": "markdown",
      "source": [
        "If8°. Даны два числа. Вывести вначале большее, а затем меньшее из них"
      ],
      "metadata": {
        "id": "oDxYtCC3zprI"
      }
    },
    {
      "cell_type": "code",
      "source": [
        "a = int(input(\"Введите А=\"))\n",
        "b = int(input(\"Введите B=\"))\n",
        "if a>b:\n",
        "  print(a,\"\",b)\n",
        "else:\n",
        "  print(b,\"\",a)"
      ],
      "metadata": {
        "colab": {
          "base_uri": "https://localhost:8080/"
        },
        "id": "G_JzGWZFzqEG",
        "outputId": "8f45fa2e-a7b6-4554-cb93-500fd2ae6330"
      },
      "execution_count": 59,
      "outputs": [
        {
          "output_type": "stream",
          "name": "stdout",
          "text": [
            "Введите А=2\n",
            "Введите B=3\n",
            "3  2\n"
          ]
        }
      ]
    },
    {
      "cell_type": "markdown",
      "source": [
        "If10. Даны две переменные целого типа: A и B. Если их значения не равны, то присвоить каждой переменной сумму этих значений, а если равны, то присвоить переменным нулевые значения. Вывести новые значения переменных A и B."
      ],
      "metadata": {
        "id": "YAZhf8_H0UMk"
      }
    },
    {
      "cell_type": "code",
      "source": [
        "a = int(input(\"Введите А=\"))\n",
        "b = int(input(\"Введите B=\"))\n",
        "c = a+b\n",
        "if a==b:\n",
        "  a = 0\n",
        "  b = 0\n",
        "  print(a, \" \", b)\n",
        "else:\n",
        "  a +=c\n",
        "  b +=c\n",
        "  print(a, \" \", b)"
      ],
      "metadata": {
        "colab": {
          "base_uri": "https://localhost:8080/"
        },
        "id": "OLueMPud0VxZ",
        "outputId": "7fb2f338-a6a6-4343-ecfc-ad2d8523f021"
      },
      "execution_count": 62,
      "outputs": [
        {
          "output_type": "stream",
          "name": "stdout",
          "text": [
            "Введите А=2\n",
            "Введите B=3\n",
            "7   8\n"
          ]
        }
      ]
    },
    {
      "cell_type": "markdown",
      "source": [
        "If28. Дан номер года (положительное целое число). Определить количество дней в этом году, учитывая, что обычный год насчитывает 365 дней, а високосный — 366 дней. Високосным считается год, делящийся на 4, за исключением тех годов, которые делятся на 100 и не делятся на 400 (например, годы 300, 1300 и 1900 не являются високосными, а 1200 и 2000 — являются)."
      ],
      "metadata": {
        "id": "tlWN4Tzp1Zj2"
      }
    },
    {
      "cell_type": "code",
      "source": [
        "year = int(input())\n",
        "if year % 4 == 0:\n",
        "    if year % 100 == 0:\n",
        "        if year % 400 == 0:\n",
        "            d = 366\n",
        "        else:\n",
        "            d = 365\n",
        "    else:\n",
        "        d = 366\n",
        "else:\n",
        "    d = 365\n",
        "print(d)"
      ],
      "metadata": {
        "colab": {
          "base_uri": "https://localhost:8080/"
        },
        "id": "DN8rN2fe1aUE",
        "outputId": "50c0e6e0-7002-46c6-adc0-8127ee0103e8"
      },
      "execution_count": 64,
      "outputs": [
        {
          "output_type": "stream",
          "name": "stdout",
          "text": [
            "8\n",
            "366\n"
          ]
        }
      ]
    },
    {
      "cell_type": "markdown",
      "source": [
        "For1. Даны целые числа K и N (N > 0). Вывести N раз число K."
      ],
      "metadata": {
        "id": "uSFoNv7x3a1C"
      }
    },
    {
      "cell_type": "code",
      "source": [
        "K = int(input(\"Введите k=\"))\n",
        "N = int(input(\"Введите n=\"))\n",
        "for i in range(0,N):\n",
        "  print(K)"
      ],
      "metadata": {
        "colab": {
          "base_uri": "https://localhost:8080/"
        },
        "id": "goglks5e3bPF",
        "outputId": "0466d769-5a8e-47a2-b8c6-1487e3c65c99"
      },
      "execution_count": 71,
      "outputs": [
        {
          "output_type": "stream",
          "name": "stdout",
          "text": [
            "Введите k=2\n",
            "Введите n=5\n",
            "2\n",
            "2\n",
            "2\n",
            "2\n",
            "2\n"
          ]
        }
      ]
    },
    {
      "cell_type": "markdown",
      "source": [
        "For5°. Дано вещественное число — цена 1 кг конфет. Вывести стоимость 0.1, 0.2, …, 1 кг конфет."
      ],
      "metadata": {
        "id": "LX8-nYF84BDU"
      }
    },
    {
      "cell_type": "code",
      "source": [
        "k = int(input(\"Введите k=\"))\n",
        "s = 0\n",
        "for i in range (1,11):\n",
        "  s = k*i/10\n",
        "  print(s)"
      ],
      "metadata": {
        "colab": {
          "base_uri": "https://localhost:8080/"
        },
        "id": "2aEw7W8Y4FCk",
        "outputId": "21f3c0b2-824c-415a-9639-e98aad0f9688"
      },
      "execution_count": 84,
      "outputs": [
        {
          "output_type": "stream",
          "name": "stdout",
          "text": [
            "Введите k=1000\n",
            "100.0\n",
            "200.0\n",
            "300.0\n",
            "400.0\n",
            "500.0\n",
            "600.0\n",
            "700.0\n",
            "800.0\n",
            "900.0\n",
            "1000.0\n"
          ]
        }
      ]
    },
    {
      "cell_type": "markdown",
      "source": [
        "For17. Дано вещественное число A и целое число N (> 0). Используя один цикл, найти сумму 1 + A + A2 + A3 + … + AN"
      ],
      "metadata": {
        "id": "R4nZzZN_51dZ"
      }
    },
    {
      "cell_type": "code",
      "source": [
        "A = int(input(\"Введите A=\"))\n",
        "N = int(input(\"Введите N=\"))\n",
        "s = 0\n",
        "for i in range (0,N):\n",
        "  c = pow(A,i)\n",
        "  s += c\n",
        "print(s)"
      ],
      "metadata": {
        "colab": {
          "base_uri": "https://localhost:8080/"
        },
        "id": "LeBhHN9o4gw2",
        "outputId": "b27bcacd-547f-4f38-f3ce-2905afc3ad76"
      },
      "execution_count": 97,
      "outputs": [
        {
          "output_type": "stream",
          "name": "stdout",
          "text": [
            "Введите A=3\n",
            "Введите N=7\n",
            "1\n",
            "3\n",
            "9\n",
            "27\n",
            "81\n",
            "243\n",
            "729\n",
            "1093\n"
          ]
        }
      ]
    },
    {
      "cell_type": "markdown",
      "source": [
        "For12°. Дано целое число N (> 0). Найти произведение 1.1 · 1.2 · 1.3 · … (N сомножителей)"
      ],
      "metadata": {
        "id": "lLj64Iq271ar"
      }
    },
    {
      "cell_type": "code",
      "source": [
        "N = int(input(\"Введите N=\"))\n",
        "s = 1\n",
        "c = 1\n",
        "for i in range (0,N):\n",
        "  c += 0.1\n",
        "  s *= c\n",
        "print(s)"
      ],
      "metadata": {
        "colab": {
          "base_uri": "https://localhost:8080/"
        },
        "id": "vlmnbzHZ75Wn",
        "outputId": "4fbf87cc-042f-45a8-def1-d54807c0c77e"
      },
      "execution_count": 102,
      "outputs": [
        {
          "output_type": "stream",
          "name": "stdout",
          "text": [
            "Введите N=3\n",
            "1.7160000000000006\n"
          ]
        }
      ]
    },
    {
      "cell_type": "markdown",
      "source": [
        "For19°. Дано целое число N (> 0). Найти произведение N! = 1·2·…·N"
      ],
      "metadata": {
        "id": "wxOOQsQ083W6"
      }
    },
    {
      "cell_type": "code",
      "source": [
        "N = int(input(\"Введите N=\"))\n",
        "s = 1\n",
        "for i in range (1,N+1):\n",
        "  s *= i\n",
        "print(s)"
      ],
      "metadata": {
        "colab": {
          "base_uri": "https://localhost:8080/"
        },
        "id": "PeTcXWVw8XZU",
        "outputId": "29f47743-c8eb-4ec6-dfdc-4ed574e48702"
      },
      "execution_count": 108,
      "outputs": [
        {
          "output_type": "stream",
          "name": "stdout",
          "text": [
            "Введите N=10\n",
            "3628800\n"
          ]
        }
      ]
    },
    {
      "cell_type": "markdown",
      "source": [
        "While1°. Даны положительные числа A и B (A > B). На отрезке длины A размещено максимально возможное количество отрезков длины B (без наложений). Не используя операции умножения и деления, найти длину незанятой части отрезка A."
      ],
      "metadata": {
        "id": "YYGazHnV9ay0"
      }
    },
    {
      "cell_type": "code",
      "source": [
        "A = int(input(\"Введите A=\"))\n",
        "B = int(input(\"Введите B=\"))\n",
        "while A>=B:\n",
        "  A -=B\n",
        "print(A)\n"
      ],
      "metadata": {
        "colab": {
          "base_uri": "https://localhost:8080/"
        },
        "id": "o65-H6R8-i_2",
        "outputId": "c89cfd4a-8d7f-4d31-dff7-040d1d920d8a"
      },
      "execution_count": 119,
      "outputs": [
        {
          "output_type": "stream",
          "name": "stdout",
          "text": [
            "Введите A=8\n",
            "Введите B=3\n",
            "2\n"
          ]
        }
      ]
    },
    {
      "cell_type": "markdown",
      "source": [
        "While2. Даны положительные числа A и B (A > B). На отрезке длины A размещено максимально возможное количество отрезков длины B (без наложе- 28 ний). Не используя операции умножения и деления, найти количество отрезков B, размещенных на отрезке A."
      ],
      "metadata": {
        "id": "8tX89kBA_k8c"
      }
    },
    {
      "cell_type": "code",
      "source": [
        "A = int(input(\"Введите A=\"))\n",
        "B = int(input(\"Введите B=\"))\n",
        "count = 0\n",
        "while A>=B:\n",
        "  A -=B\n",
        "  count +=1\n",
        "print(count)"
      ],
      "metadata": {
        "colab": {
          "base_uri": "https://localhost:8080/"
        },
        "id": "VfBSnD2q-wwU",
        "outputId": "5f745ad2-7ce5-4724-ab1c-020dff3f981d"
      },
      "execution_count": 124,
      "outputs": [
        {
          "output_type": "stream",
          "name": "stdout",
          "text": [
            "Введите A=7\n",
            "Введите B=2\n",
            "3\n"
          ]
        }
      ]
    },
    {
      "cell_type": "markdown",
      "source": [
        "While11°. Дано целое число N (> 1). Вывести наименьшее из целых чисел K, для которых сумма 1 + 2 + … + K будет больше или равна N, и саму эту сумму."
      ],
      "metadata": {
        "id": "ZOtBG6uwAoDo"
      }
    },
    {
      "cell_type": "code",
      "source": [
        "N = int(input(\"Введите N=\"))\n",
        "k = 0\n",
        "s = 0\n",
        "while s<=N:\n",
        "  k +=1\n",
        "  s +=k\n",
        "\n",
        "print(k, \" \", s)"
      ],
      "metadata": {
        "colab": {
          "base_uri": "https://localhost:8080/"
        },
        "id": "OllK3V7K_rNl",
        "outputId": "3f53f7e7-ea44-4558-aa72-512a92eb6a93"
      },
      "execution_count": 136,
      "outputs": [
        {
          "output_type": "stream",
          "name": "stdout",
          "text": [
            "Введите N=2\n",
            "2   3\n"
          ]
        }
      ]
    },
    {
      "cell_type": "markdown",
      "source": [
        "While15. Начальный вклад в банке равен 1000 руб. Через каждый месяц размер вклада увеличивается на P процентов от имеющейся суммы (P — вещественное число, 0 < P < 25). По данному P определить, через сколько месяцев размер вклада превысит 1100 руб., и вывести найденное количество месяцев K (целое число) и итоговый размер вклада S (вещественное число)."
      ],
      "metadata": {
        "id": "umVEZmGgC3Wk"
      }
    },
    {
      "cell_type": "code",
      "source": [
        "p = int(input(\"Введите P=\"))\n",
        "p /=100\n",
        "s = 1000\n",
        "m = 0\n",
        "while s <= 1100:\n",
        "  s = s*(1+p)\n",
        "  m += 1\n",
        "\n",
        "print(s,m)"
      ],
      "metadata": {
        "colab": {
          "base_uri": "https://localhost:8080/"
        },
        "id": "MVxhK2T-BRy9",
        "outputId": "5d1fb203-dea2-449a-9f6d-718be26653b0"
      },
      "execution_count": 142,
      "outputs": [
        {
          "output_type": "stream",
          "name": "stdout",
          "text": [
            "Введите P=2\n",
            "1104.0808032 5\n"
          ]
        }
      ]
    },
    {
      "cell_type": "markdown",
      "source": [
        "While9. Дано целое число N (> 1). Найти наименьшее целое число K, при котором выполняется неравенство 3^K > N."
      ],
      "metadata": {
        "id": "wdzabA15DzmU"
      }
    },
    {
      "cell_type": "code",
      "source": [
        "N = int(input(\"Введите целое число N (>1): \"))\n",
        "K = 0\n",
        "while 3**K <= N:\n",
        " K += 1\n",
        "print(K)"
      ],
      "metadata": {
        "colab": {
          "base_uri": "https://localhost:8080/"
        },
        "id": "rTIeImD1De0f",
        "outputId": "d6d27c35-ba9c-417f-b11f-88b2cf93dd51"
      },
      "execution_count": 157,
      "outputs": [
        {
          "output_type": "stream",
          "name": "stdout",
          "text": [
            "Введите целое число N (>1): 8\n",
            "2\n"
          ]
        }
      ]
    },
    {
      "cell_type": "code",
      "source": [],
      "metadata": {
        "id": "guQ3z0LZEUby"
      },
      "execution_count": null,
      "outputs": []
    }
  ]
}